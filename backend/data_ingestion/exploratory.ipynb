{
 "cells": [
  {
   "cell_type": "code",
   "execution_count": 1,
   "metadata": {},
   "outputs": [],
   "source": [
    "source = \"../../data/bills/2023/MA/2023-2024_193rd_General_Court/bill\"\n",
    "#!ls\n",
    "import pandas as pd"
   ]
  },
  {
   "cell_type": "code",
   "execution_count": 2,
   "metadata": {},
   "outputs": [],
   "source": [
    "exampel =  {\n",
    "    'bill_id': 1724489,\n",
    "    'change_hash': 'c1bf31b17aba7a28c542063cab24991c',\n",
    "    'session_id': 2026,\n",
    "    'session': {\n",
    "        'session_id': 2026,\n",
    "        'state_id': 21,\n",
    "        'year_start': 2023,\n",
    "        'year_end': 2024,\n",
    "        'prefile': 0,\n",
    "        'sine_die': 0,\n",
    "        'prior': 0,\n",
    "        'special': 0,\n",
    "        'session_tag': 'Regular Session',\n",
    "        'session_title': '2023-2024 Regular Session',\n",
    "        'session_name': '193rd General Court'\n",
    "    },\n",
    "    'url': 'https://legiscan.com/MA/bill/H1/2023',\n",
    "    'state_link': 'https://malegislature.gov/Bills/193/H1',\n",
    "    'completed': 0,\n",
    "    'status': 1,\n",
    "    'status_date': '2023-03-02',\n",
    "    'progress': [{'date': '2023-03-02', 'event': 1}, {'date': '2023-03-02', 'event': 9}],\n",
    "    'state': 'MA',\n",
    "    'state_id': 21,\n",
    "    'bill_number': 'H1',\n",
    "    'bill_type': 'B',\n",
    "    'bill_type_id': '1',\n",
    "    'body': 'H',\n",
    "    'body_id': 51,\n",
    "    'current_body': 'H',\n",
    "    'current_body_id': 51,\n",
    "    'title': 'Making appropriations for the Fiscal Year 2024 for the maintenance of the departments, boards, commissions, institutions, and certain activities of the Commonwealth, for interest, sinking fund, and serial bond requirements, and for certain permanent improvements',\n",
    "    'description': 'Making appropriations for the Fiscal Year 2024 for the maintenance of the departments, boards, commissions, institutions, and certain activities of the Commonwealth, for interest, sinking fund, and serial bond requirements, and for certain permanent improvements',\n",
    "    'pending_committee_id': 0,\n",
    "    'committee': [],\n",
    "    'referrals': [{'date': '2023-03-02', 'committee_id': 737, 'chamber': 'H', 'chamber_id': 51, 'name': 'Ways and Means'}],\n",
    "    'history': [\n",
    "        {'date': '2023-03-02', 'action': 'Referred to the committee on House Ways and Means', 'chamber': 'H', 'chamber_id': 51, 'importance': 1},\n",
    "        {'date': '2023-04-13', 'action': 'Reported, in part, by H3900', 'chamber': 'H', 'chamber_id': 51, 'importance': 0}\n",
    "    ],\n",
    "    'sponsors': [],\n",
    "    'sasts': [\n",
    "        {'type_id': 2, 'type': 'Similar To', 'sast_bill_number': 'H3900', 'sast_bill_id': 1755026},\n",
    "        {'type_id': 2, 'type': 'Similar To', 'sast_bill_number': 'H3901', 'sast_bill_id': 1760451},\n",
    "        {'type_id': 2, 'type': 'Similar To', 'sast_bill_number': 'H4040', 'sast_bill_id': 1775764},\n",
    "        {'type_id': 2, 'type': 'Similar To', 'sast_bill_number': 'H4790', 'sast_bill_id': 1883298},\n",
    "        {'type_id': 2, 'type': 'Similar To', 'sast_bill_number': 'H4885', 'sast_bill_id': 1884557}\n",
    "    ],\n",
    "    'subjects': [],\n",
    "    'texts': [\n",
    "        {'doc_id': 2723131, 'date': '0000-00-00', 'type': 'Introduced', 'type_id': 1, 'mime': 'application/pdf', 'mime_id': 2, 'url': 'https://legiscan.com/MA/text/H1/id/2723131', 'state_link': 'https://malegislature.gov/Bills/193/H1.pdf', 'text_size': 1366481, 'text_hash': '8d3d72db1734520b379f88beb834b639', 'alt_bill_text': 0, 'alt_mime': '', 'alt_mime_id': 0, 'alt_state_link': '', 'alt_text_size': 0, 'alt_text_hash': ''}\n",
    "    ],\n",
    "    'votes': [],\n",
    "    'amendments': [],\n",
    "    'supplements': [],\n",
    "    'calendar': []\n",
    "}\n"
   ]
  },
  {
   "cell_type": "code",
   "execution_count": 3,
   "metadata": {},
   "outputs": [
    {
     "data": {
      "text/html": [
       "<div>\n",
       "<style scoped>\n",
       "    .dataframe tbody tr th:only-of-type {\n",
       "        vertical-align: middle;\n",
       "    }\n",
       "\n",
       "    .dataframe tbody tr th {\n",
       "        vertical-align: top;\n",
       "    }\n",
       "\n",
       "    .dataframe thead th {\n",
       "        text-align: right;\n",
       "    }\n",
       "</style>\n",
       "<table border=\"1\" class=\"dataframe\">\n",
       "  <thead>\n",
       "    <tr style=\"text-align: right;\">\n",
       "      <th></th>\n",
       "      <th>bill_id</th>\n",
       "      <th>status</th>\n",
       "      <th>state</th>\n",
       "      <th>state_id</th>\n",
       "      <th>bill_number</th>\n",
       "      <th>bill_type</th>\n",
       "      <th>bill_type_id</th>\n",
       "      <th>body</th>\n",
       "      <th>body_id</th>\n",
       "      <th>current_body</th>\n",
       "      <th>current_body_id</th>\n",
       "      <th>title</th>\n",
       "      <th>description</th>\n",
       "    </tr>\n",
       "  </thead>\n",
       "  <tbody>\n",
       "    <tr>\n",
       "      <th>0</th>\n",
       "      <td>1724489</td>\n",
       "      <td>1</td>\n",
       "      <td>MA</td>\n",
       "      <td>21</td>\n",
       "      <td>H1</td>\n",
       "      <td>B</td>\n",
       "      <td>1</td>\n",
       "      <td>H</td>\n",
       "      <td>51</td>\n",
       "      <td>H</td>\n",
       "      <td>51</td>\n",
       "      <td>Making appropriations for the Fiscal Year 2024...</td>\n",
       "      <td>Making appropriations for the Fiscal Year 2024...</td>\n",
       "    </tr>\n",
       "  </tbody>\n",
       "</table>\n",
       "</div>"
      ],
      "text/plain": [
       "   bill_id  status state  state_id bill_number bill_type bill_type_id body  \\\n",
       "0  1724489       1    MA        21          H1         B            1    H   \n",
       "\n",
       "   body_id current_body  current_body_id  \\\n",
       "0       51            H               51   \n",
       "\n",
       "                                               title  \\\n",
       "0  Making appropriations for the Fiscal Year 2024...   \n",
       "\n",
       "                                         description  \n",
       "0  Making appropriations for the Fiscal Year 2024...  "
      ]
     },
     "execution_count": 3,
     "metadata": {},
     "output_type": "execute_result"
    }
   ],
   "source": [
    "columns=[               \"bill_id\",\n",
    "                        \"status\",\n",
    "                        \"state\",\n",
    "                        \"state_id\",\n",
    "                        \"bill_number\",\n",
    "                        \"bill_type\",\n",
    "                        \"bill_type_id\",\n",
    "                        \"body\",\n",
    "                        \"body_id\",\n",
    "                        \"current_body\",\n",
    "                        \"current_body_id\",\n",
    "                        \"title\",\n",
    "                        \"description\"\n",
    "                    ]\n",
    "response = pd.DataFrame([{col: exampel.get(col, None) for col in columns}])\n",
    "response"
   ]
  },
  {
   "cell_type": "code",
   "execution_count": 4,
   "metadata": {},
   "outputs": [],
   "source": [
    "import os\n",
    "import glob\n",
    "import pandas as pd\n",
    "import json\n",
    "\n",
    "def make_bill_json_df(source: str, save: bool = False) -> pd.DataFrame:\n",
    "    json_files = glob.glob(os.path.join(source, \"*.json\"))\n",
    "    columns = [\n",
    "        \"bill_id\",\n",
    "        \"status\",\n",
    "        \"state\",\n",
    "        \"state_id\",\n",
    "        \"bill_number\",\n",
    "        \"bill_type\",\n",
    "        \"bill_type_id\",\n",
    "        \"body\",\n",
    "        \"body_id\",\n",
    "        \"current_body\",\n",
    "        \"current_body_id\",\n",
    "        \"title\",\n",
    "        \"description\"\n",
    "    ]\n",
    "    data = []\n",
    "    for file in json_files:\n",
    "        with open(file, \"r\") as f:\n",
    "            json_data = json.load(f)\n",
    "            row = json_data.get(\"bill\")\n",
    "            row = {col: row.get(col, None) for col in columns}\n",
    "            data.append(row)\n",
    "    response = pd.DataFrame(data)\n",
    "    if save:\n",
    "        response.to_csv('bill.csv')\n",
    "    return response\n",
    "\n",
    "\n",
    "#arf = make_bill_json_df(source)"
   ]
  },
  {
   "cell_type": "code",
   "execution_count": 5,
   "metadata": {},
   "outputs": [],
   "source": [
    "#arf"
   ]
  },
  {
   "cell_type": "code",
   "execution_count": 6,
   "metadata": {},
   "outputs": [],
   "source": [
    "#arf.to_csv('bill.csv')"
   ]
  },
  {
   "cell_type": "code",
   "execution_count": 7,
   "metadata": {},
   "outputs": [],
   "source": [
    "titles = pd.read_csv(\"bill.csv\")"
   ]
  },
  {
   "cell_type": "code",
   "execution_count": 8,
   "metadata": {},
   "outputs": [
    {
     "ename": "ModuleNotFoundError",
     "evalue": "No module named 'WordCloud'",
     "output_type": "error",
     "traceback": [
      "\u001b[0;31m---------------------------------------------------------------------------\u001b[0m",
      "\u001b[0;31mModuleNotFoundError\u001b[0m                       Traceback (most recent call last)",
      "Cell \u001b[0;32mIn[8], line 1\u001b[0m\n\u001b[0;32m----> 1\u001b[0m \u001b[38;5;28;01mimport\u001b[39;00m \u001b[38;5;21;01mWordCloud\u001b[39;00m\n\u001b[1;32m      2\u001b[0m \u001b[38;5;28;01mimport\u001b[39;00m \u001b[38;5;21;01mmatplotlib\u001b[39;00m\u001b[38;5;21;01m.\u001b[39;00m\u001b[38;5;21;01mpyplot\u001b[39;00m \u001b[38;5;28;01mas\u001b[39;00m \u001b[38;5;21;01mplt\u001b[39;00m\n\u001b[1;32m      3\u001b[0m text \u001b[38;5;241m=\u001b[39m titles[\u001b[38;5;124m'\u001b[39m\u001b[38;5;124mCrime type\u001b[39m\u001b[38;5;124m'\u001b[39m]\u001b[38;5;241m.\u001b[39mvalues\n",
      "\u001b[0;31mModuleNotFoundError\u001b[0m: No module named 'WordCloud'"
     ]
    }
   ],
   "source": [
    "import WordCloud\n",
    "import matplotlib.pyplot as plt\n",
    "text = titles['Crime type'].values\n",
    "\n",
    "wordcloud = WordCloud().generate(str(text))\n",
    "\n",
    "plt.imshow(wordcloud)\n",
    "plt.axis(\"off\")\n",
    "plt.show()"
   ]
  }
 ],
 "metadata": {
  "kernelspec": {
   "display_name": "wethepeople",
   "language": "python",
   "name": "python3"
  },
  "language_info": {
   "codemirror_mode": {
    "name": "ipython",
    "version": 3
   },
   "file_extension": ".py",
   "mimetype": "text/x-python",
   "name": "python",
   "nbconvert_exporter": "python",
   "pygments_lexer": "ipython3",
   "version": "3.10.6"
  }
 },
 "nbformat": 4,
 "nbformat_minor": 2
}
